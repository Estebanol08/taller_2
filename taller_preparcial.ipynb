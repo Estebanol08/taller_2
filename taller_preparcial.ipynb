{
  "cells": [
    {
      "cell_type": "markdown",
      "metadata": {
        "id": "OhpuD3UMXN90"
      },
      "source": [
        "***INTEGRANTES: Daniel Esteban Olmos - Juan Pablo Gonzalez - Juan Rafael Ortiz***"
      ]
    },
    {
      "cell_type": "markdown",
      "metadata": {
        "id": "ToTBleSiPJnA"
      },
      "source": [
        "# TALLER 2do corte "
      ]
    },
    {
      "cell_type": "markdown",
      "metadata": {
        "id": "wUWBfKa4PPZm"
      },
      "source": [
        "## Instale la librería wooldridge e importe numpy y pandas."
      ]
    },
    {
      "cell_type": "code",
      "execution_count": null,
      "metadata": {
        "colab": {
          "base_uri": "https://localhost:8080/"
        },
        "id": "rOgl9MooPOvu",
        "outputId": "d919c677-380a-4024-f491-635b245fb8a2"
      },
      "outputs": [
        {
          "name": "stdout",
          "output_type": "stream",
          "text": [
            "Looking in indexes: https://pypi.org/simple, https://us-python.pkg.dev/colab-wheels/public/simple/\n",
            "Collecting wooldridge\n",
            "  Downloading wooldridge-0.4.4-py3-none-any.whl (5.1 MB)\n",
            "\u001b[2K     \u001b[90m━━━━━━━━━━━━━━━━━━━━━━━━━━━━━━━━━━━━━━━━\u001b[0m \u001b[32m5.1/5.1 MB\u001b[0m \u001b[31m39.5 MB/s\u001b[0m eta \u001b[36m0:00:00\u001b[0m\n",
            "\u001b[?25hRequirement already satisfied: pandas in /usr/local/lib/python3.9/dist-packages (from wooldridge) (1.5.3)\n",
            "Requirement already satisfied: numpy>=1.20.3 in /usr/local/lib/python3.9/dist-packages (from pandas->wooldridge) (1.22.4)\n",
            "Requirement already satisfied: python-dateutil>=2.8.1 in /usr/local/lib/python3.9/dist-packages (from pandas->wooldridge) (2.8.2)\n",
            "Requirement already satisfied: pytz>=2020.1 in /usr/local/lib/python3.9/dist-packages (from pandas->wooldridge) (2022.7.1)\n",
            "Requirement already satisfied: six>=1.5 in /usr/local/lib/python3.9/dist-packages (from python-dateutil>=2.8.1->pandas->wooldridge) (1.16.0)\n",
            "Installing collected packages: wooldridge\n",
            "Successfully installed wooldridge-0.4.4\n"
          ]
        }
      ],
      "source": [
        "!pip install wooldridge\n",
        "import pandas as pd\n",
        "import numpy as np\n",
        "import wooldridge as wd"
      ]
    },
    {
      "cell_type": "markdown",
      "metadata": {
        "id": "hvULqoNZSSSx"
      },
      "source": [
        "## Cargue el dataset wage1 y guárdelo en una variable. Conserve únicamente las columnas exper, educ y wage."
      ]
    },
    {
      "cell_type": "code",
      "execution_count": null,
      "metadata": {
        "id": "LO7-20P-Ql_O"
      },
      "outputs": [],
      "source": [
        "df=wd.data(\"wage1\") [['exper', 'educ', 'wage']]"
      ]
    },
    {
      "cell_type": "code",
      "execution_count": null,
      "metadata": {
        "colab": {
          "base_uri": "https://localhost:8080/",
          "height": 424
        },
        "id": "R8H03p4CPHbY",
        "outputId": "368d9bbc-432c-4107-b695-e55111169a5c"
      },
      "outputs": [
        {
          "data": {
            "text/html": [
              "\n",
              "  <div id=\"df-6e90d75f-e0ea-4a73-9462-3d5670e9a1d8\">\n",
              "    <div class=\"colab-df-container\">\n",
              "      <div>\n",
              "<style scoped>\n",
              "    .dataframe tbody tr th:only-of-type {\n",
              "        vertical-align: middle;\n",
              "    }\n",
              "\n",
              "    .dataframe tbody tr th {\n",
              "        vertical-align: top;\n",
              "    }\n",
              "\n",
              "    .dataframe thead th {\n",
              "        text-align: right;\n",
              "    }\n",
              "</style>\n",
              "<table border=\"1\" class=\"dataframe\">\n",
              "  <thead>\n",
              "    <tr style=\"text-align: right;\">\n",
              "      <th></th>\n",
              "      <th>exper</th>\n",
              "      <th>educ</th>\n",
              "      <th>wage</th>\n",
              "    </tr>\n",
              "  </thead>\n",
              "  <tbody>\n",
              "    <tr>\n",
              "      <th>0</th>\n",
              "      <td>2</td>\n",
              "      <td>11</td>\n",
              "      <td>3.10</td>\n",
              "    </tr>\n",
              "    <tr>\n",
              "      <th>1</th>\n",
              "      <td>22</td>\n",
              "      <td>12</td>\n",
              "      <td>3.24</td>\n",
              "    </tr>\n",
              "    <tr>\n",
              "      <th>2</th>\n",
              "      <td>2</td>\n",
              "      <td>11</td>\n",
              "      <td>3.00</td>\n",
              "    </tr>\n",
              "    <tr>\n",
              "      <th>3</th>\n",
              "      <td>44</td>\n",
              "      <td>8</td>\n",
              "      <td>6.00</td>\n",
              "    </tr>\n",
              "    <tr>\n",
              "      <th>4</th>\n",
              "      <td>7</td>\n",
              "      <td>12</td>\n",
              "      <td>5.30</td>\n",
              "    </tr>\n",
              "    <tr>\n",
              "      <th>...</th>\n",
              "      <td>...</td>\n",
              "      <td>...</td>\n",
              "      <td>...</td>\n",
              "    </tr>\n",
              "    <tr>\n",
              "      <th>521</th>\n",
              "      <td>14</td>\n",
              "      <td>16</td>\n",
              "      <td>15.00</td>\n",
              "    </tr>\n",
              "    <tr>\n",
              "      <th>522</th>\n",
              "      <td>2</td>\n",
              "      <td>10</td>\n",
              "      <td>2.27</td>\n",
              "    </tr>\n",
              "    <tr>\n",
              "      <th>523</th>\n",
              "      <td>13</td>\n",
              "      <td>15</td>\n",
              "      <td>4.67</td>\n",
              "    </tr>\n",
              "    <tr>\n",
              "      <th>524</th>\n",
              "      <td>5</td>\n",
              "      <td>16</td>\n",
              "      <td>11.56</td>\n",
              "    </tr>\n",
              "    <tr>\n",
              "      <th>525</th>\n",
              "      <td>5</td>\n",
              "      <td>14</td>\n",
              "      <td>3.50</td>\n",
              "    </tr>\n",
              "  </tbody>\n",
              "</table>\n",
              "<p>526 rows × 3 columns</p>\n",
              "</div>\n",
              "      <button class=\"colab-df-convert\" onclick=\"convertToInteractive('df-6e90d75f-e0ea-4a73-9462-3d5670e9a1d8')\"\n",
              "              title=\"Convert this dataframe to an interactive table.\"\n",
              "              style=\"display:none;\">\n",
              "        \n",
              "  <svg xmlns=\"http://www.w3.org/2000/svg\" height=\"24px\"viewBox=\"0 0 24 24\"\n",
              "       width=\"24px\">\n",
              "    <path d=\"M0 0h24v24H0V0z\" fill=\"none\"/>\n",
              "    <path d=\"M18.56 5.44l.94 2.06.94-2.06 2.06-.94-2.06-.94-.94-2.06-.94 2.06-2.06.94zm-11 1L8.5 8.5l.94-2.06 2.06-.94-2.06-.94L8.5 2.5l-.94 2.06-2.06.94zm10 10l.94 2.06.94-2.06 2.06-.94-2.06-.94-.94-2.06-.94 2.06-2.06.94z\"/><path d=\"M17.41 7.96l-1.37-1.37c-.4-.4-.92-.59-1.43-.59-.52 0-1.04.2-1.43.59L10.3 9.45l-7.72 7.72c-.78.78-.78 2.05 0 2.83L4 21.41c.39.39.9.59 1.41.59.51 0 1.02-.2 1.41-.59l7.78-7.78 2.81-2.81c.8-.78.8-2.07 0-2.86zM5.41 20L4 18.59l7.72-7.72 1.47 1.35L5.41 20z\"/>\n",
              "  </svg>\n",
              "      </button>\n",
              "      \n",
              "  <style>\n",
              "    .colab-df-container {\n",
              "      display:flex;\n",
              "      flex-wrap:wrap;\n",
              "      gap: 12px;\n",
              "    }\n",
              "\n",
              "    .colab-df-convert {\n",
              "      background-color: #E8F0FE;\n",
              "      border: none;\n",
              "      border-radius: 50%;\n",
              "      cursor: pointer;\n",
              "      display: none;\n",
              "      fill: #1967D2;\n",
              "      height: 32px;\n",
              "      padding: 0 0 0 0;\n",
              "      width: 32px;\n",
              "    }\n",
              "\n",
              "    .colab-df-convert:hover {\n",
              "      background-color: #E2EBFA;\n",
              "      box-shadow: 0px 1px 2px rgba(60, 64, 67, 0.3), 0px 1px 3px 1px rgba(60, 64, 67, 0.15);\n",
              "      fill: #174EA6;\n",
              "    }\n",
              "\n",
              "    [theme=dark] .colab-df-convert {\n",
              "      background-color: #3B4455;\n",
              "      fill: #D2E3FC;\n",
              "    }\n",
              "\n",
              "    [theme=dark] .colab-df-convert:hover {\n",
              "      background-color: #434B5C;\n",
              "      box-shadow: 0px 1px 3px 1px rgba(0, 0, 0, 0.15);\n",
              "      filter: drop-shadow(0px 1px 2px rgba(0, 0, 0, 0.3));\n",
              "      fill: #FFFFFF;\n",
              "    }\n",
              "  </style>\n",
              "\n",
              "      <script>\n",
              "        const buttonEl =\n",
              "          document.querySelector('#df-6e90d75f-e0ea-4a73-9462-3d5670e9a1d8 button.colab-df-convert');\n",
              "        buttonEl.style.display =\n",
              "          google.colab.kernel.accessAllowed ? 'block' : 'none';\n",
              "\n",
              "        async function convertToInteractive(key) {\n",
              "          const element = document.querySelector('#df-6e90d75f-e0ea-4a73-9462-3d5670e9a1d8');\n",
              "          const dataTable =\n",
              "            await google.colab.kernel.invokeFunction('convertToInteractive',\n",
              "                                                     [key], {});\n",
              "          if (!dataTable) return;\n",
              "\n",
              "          const docLinkHtml = 'Like what you see? Visit the ' +\n",
              "            '<a target=\"_blank\" href=https://colab.research.google.com/notebooks/data_table.ipynb>data table notebook</a>'\n",
              "            + ' to learn more about interactive tables.';\n",
              "          element.innerHTML = '';\n",
              "          dataTable['output_type'] = 'display_data';\n",
              "          await google.colab.output.renderOutput(dataTable, element);\n",
              "          const docLink = document.createElement('div');\n",
              "          docLink.innerHTML = docLinkHtml;\n",
              "          element.appendChild(docLink);\n",
              "        }\n",
              "      </script>\n",
              "    </div>\n",
              "  </div>\n",
              "  "
            ],
            "text/plain": [
              "     exper  educ   wage\n",
              "0        2    11   3.10\n",
              "1       22    12   3.24\n",
              "2        2    11   3.00\n",
              "3       44     8   6.00\n",
              "4        7    12   5.30\n",
              "..     ...   ...    ...\n",
              "521     14    16  15.00\n",
              "522      2    10   2.27\n",
              "523     13    15   4.67\n",
              "524      5    16  11.56\n",
              "525      5    14   3.50\n",
              "\n",
              "[526 rows x 3 columns]"
            ]
          },
          "execution_count": 11,
          "metadata": {},
          "output_type": "execute_result"
        }
      ],
      "source": [
        "df"
      ]
    },
    {
      "cell_type": "markdown",
      "metadata": {
        "id": "JCEbAHTPSXz2"
      },
      "source": [
        "##Pase el dataframe a un array de numpy."
      ]
    },
    {
      "cell_type": "code",
      "execution_count": null,
      "metadata": {
        "id": "bXYMA5I9XuMW"
      },
      "outputs": [],
      "source": [
        "y= df[\"wage\"]\n",
        "x1= df[[\"educ\",\"exper\"]]\n"
      ]
    },
    {
      "cell_type": "code",
      "execution_count": null,
      "metadata": {
        "id": "rdxVNFmmZFaV"
      },
      "outputs": [],
      "source": [
        "array=np.array(x1)"
      ]
    },
    {
      "cell_type": "code",
      "execution_count": null,
      "metadata": {
        "colab": {
          "base_uri": "https://localhost:8080/"
        },
        "id": "n5LFS4AxZJXN",
        "outputId": "ddac6df7-eeba-4bc4-be44-f13a83b3b71b"
      },
      "outputs": [
        {
          "data": {
            "text/plain": [
              "array([[11,  2],\n",
              "       [12, 22],\n",
              "       [11,  2],\n",
              "       ...,\n",
              "       [15, 13],\n",
              "       [16,  5],\n",
              "       [14,  5]])"
            ]
          },
          "execution_count": 14,
          "metadata": {},
          "output_type": "execute_result"
        }
      ],
      "source": [
        "array"
      ]
    },
    {
      "cell_type": "code",
      "execution_count": null,
      "metadata": {
        "id": "hd8BOS_ESOQ-"
      },
      "outputs": [],
      "source": [
        "x=array"
      ]
    },
    {
      "cell_type": "code",
      "execution_count": null,
      "metadata": {
        "id": "grEYhGUdVcmU"
      },
      "outputs": [],
      "source": [
        "p= np.ones(len(x))"
      ]
    },
    {
      "cell_type": "code",
      "execution_count": null,
      "metadata": {
        "colab": {
          "base_uri": "https://localhost:8080/"
        },
        "id": "oAlwFNkMVz8L",
        "outputId": "87bff9a1-4e3d-49cc-b03d-19a25ac408bc"
      },
      "outputs": [
        {
          "data": {
            "text/plain": [
              "array([1., 1., 1., 1., 1., 1., 1., 1., 1., 1., 1., 1., 1., 1., 1., 1., 1.,\n",
              "       1., 1., 1., 1., 1., 1., 1., 1., 1., 1., 1., 1., 1., 1., 1., 1., 1.,\n",
              "       1., 1., 1., 1., 1., 1., 1., 1., 1., 1., 1., 1., 1., 1., 1., 1., 1.,\n",
              "       1., 1., 1., 1., 1., 1., 1., 1., 1., 1., 1., 1., 1., 1., 1., 1., 1.,\n",
              "       1., 1., 1., 1., 1., 1., 1., 1., 1., 1., 1., 1., 1., 1., 1., 1., 1.,\n",
              "       1., 1., 1., 1., 1., 1., 1., 1., 1., 1., 1., 1., 1., 1., 1., 1., 1.,\n",
              "       1., 1., 1., 1., 1., 1., 1., 1., 1., 1., 1., 1., 1., 1., 1., 1., 1.,\n",
              "       1., 1., 1., 1., 1., 1., 1., 1., 1., 1., 1., 1., 1., 1., 1., 1., 1.,\n",
              "       1., 1., 1., 1., 1., 1., 1., 1., 1., 1., 1., 1., 1., 1., 1., 1., 1.,\n",
              "       1., 1., 1., 1., 1., 1., 1., 1., 1., 1., 1., 1., 1., 1., 1., 1., 1.,\n",
              "       1., 1., 1., 1., 1., 1., 1., 1., 1., 1., 1., 1., 1., 1., 1., 1., 1.,\n",
              "       1., 1., 1., 1., 1., 1., 1., 1., 1., 1., 1., 1., 1., 1., 1., 1., 1.,\n",
              "       1., 1., 1., 1., 1., 1., 1., 1., 1., 1., 1., 1., 1., 1., 1., 1., 1.,\n",
              "       1., 1., 1., 1., 1., 1., 1., 1., 1., 1., 1., 1., 1., 1., 1., 1., 1.,\n",
              "       1., 1., 1., 1., 1., 1., 1., 1., 1., 1., 1., 1., 1., 1., 1., 1., 1.,\n",
              "       1., 1., 1., 1., 1., 1., 1., 1., 1., 1., 1., 1., 1., 1., 1., 1., 1.,\n",
              "       1., 1., 1., 1., 1., 1., 1., 1., 1., 1., 1., 1., 1., 1., 1., 1., 1.,\n",
              "       1., 1., 1., 1., 1., 1., 1., 1., 1., 1., 1., 1., 1., 1., 1., 1., 1.,\n",
              "       1., 1., 1., 1., 1., 1., 1., 1., 1., 1., 1., 1., 1., 1., 1., 1., 1.,\n",
              "       1., 1., 1., 1., 1., 1., 1., 1., 1., 1., 1., 1., 1., 1., 1., 1., 1.,\n",
              "       1., 1., 1., 1., 1., 1., 1., 1., 1., 1., 1., 1., 1., 1., 1., 1., 1.,\n",
              "       1., 1., 1., 1., 1., 1., 1., 1., 1., 1., 1., 1., 1., 1., 1., 1., 1.,\n",
              "       1., 1., 1., 1., 1., 1., 1., 1., 1., 1., 1., 1., 1., 1., 1., 1., 1.,\n",
              "       1., 1., 1., 1., 1., 1., 1., 1., 1., 1., 1., 1., 1., 1., 1., 1., 1.,\n",
              "       1., 1., 1., 1., 1., 1., 1., 1., 1., 1., 1., 1., 1., 1., 1., 1., 1.,\n",
              "       1., 1., 1., 1., 1., 1., 1., 1., 1., 1., 1., 1., 1., 1., 1., 1., 1.,\n",
              "       1., 1., 1., 1., 1., 1., 1., 1., 1., 1., 1., 1., 1., 1., 1., 1., 1.,\n",
              "       1., 1., 1., 1., 1., 1., 1., 1., 1., 1., 1., 1., 1., 1., 1., 1., 1.,\n",
              "       1., 1., 1., 1., 1., 1., 1., 1., 1., 1., 1., 1., 1., 1., 1., 1., 1.,\n",
              "       1., 1., 1., 1., 1., 1., 1., 1., 1., 1., 1., 1., 1., 1., 1., 1., 1.,\n",
              "       1., 1., 1., 1., 1., 1., 1., 1., 1., 1., 1., 1., 1., 1., 1., 1.])"
            ]
          },
          "execution_count": 17,
          "metadata": {},
          "output_type": "execute_result"
        }
      ],
      "source": [
        "p"
      ]
    },
    {
      "cell_type": "code",
      "execution_count": null,
      "metadata": {
        "id": "r71ifKqMV3wb"
      },
      "outputs": [],
      "source": [
        "X=np.c_[p,x]"
      ]
    },
    {
      "cell_type": "code",
      "execution_count": null,
      "metadata": {
        "colab": {
          "base_uri": "https://localhost:8080/"
        },
        "id": "V1jBW5LZWAw6",
        "outputId": "afef9b4e-4e2b-4eea-9ac9-1fc82e7207c5"
      },
      "outputs": [
        {
          "data": {
            "text/plain": [
              "(526, 3)"
            ]
          },
          "execution_count": 19,
          "metadata": {},
          "output_type": "execute_result"
        }
      ],
      "source": [
        "X.shape"
      ]
    },
    {
      "cell_type": "code",
      "execution_count": null,
      "metadata": {
        "colab": {
          "base_uri": "https://localhost:8080/"
        },
        "id": "wonl5HJRWDgK",
        "outputId": "5f64aca4-ce10-4d5f-d846-81ecfe2ef749"
      },
      "outputs": [
        {
          "data": {
            "text/plain": [
              "array([[ 1., 11.,  2.],\n",
              "       [ 1., 12., 22.],\n",
              "       [ 1., 11.,  2.],\n",
              "       ...,\n",
              "       [ 1., 15., 13.],\n",
              "       [ 1., 16.,  5.],\n",
              "       [ 1., 14.,  5.]])"
            ]
          },
          "execution_count": 20,
          "metadata": {},
          "output_type": "execute_result"
        }
      ],
      "source": [
        "X"
      ]
    },
    {
      "cell_type": "markdown",
      "metadata": {
        "id": "vlRdTa0naoEF"
      },
      "source": [
        "TRANSPUESTA"
      ]
    },
    {
      "cell_type": "code",
      "execution_count": null,
      "metadata": {
        "id": "GJx3yPG1WUvb"
      },
      "outputs": [],
      "source": [
        "k= X.T.dot(X)"
      ]
    },
    {
      "cell_type": "code",
      "execution_count": null,
      "metadata": {
        "colab": {
          "base_uri": "https://localhost:8080/"
        },
        "id": "Gg4991oMhYU-",
        "outputId": "2dfc2707-1e71-4e3b-bce6-815d512bf303"
      },
      "outputs": [
        {
          "data": {
            "text/plain": [
              "array([[   526.,   6608.,   8951.],\n",
              "       [  6608.,  87040., 106539.],\n",
              "       [  8951., 106539., 249027.]])"
            ]
          },
          "execution_count": 22,
          "metadata": {},
          "output_type": "execute_result"
        }
      ],
      "source": [
        "k"
      ]
    },
    {
      "cell_type": "markdown",
      "metadata": {
        "id": "DP0dEEqxaras"
      },
      "source": [
        "INVERSA DE TRANSPUESTA"
      ]
    },
    {
      "cell_type": "code",
      "execution_count": null,
      "metadata": {
        "id": "9hwM6VdSWZLz"
      },
      "outputs": [],
      "source": [
        "inv_k= np.linalg.inv(k)"
      ]
    },
    {
      "cell_type": "code",
      "execution_count": null,
      "metadata": {
        "colab": {
          "base_uri": "https://localhost:8080/"
        },
        "id": "v0tlahYVhaVf",
        "outputId": "18f93d86-2091-4bfd-d967-6153bdc1950e"
      },
      "outputs": [
        {
          "data": {
            "text/plain": [
              "array([[ 5.53926242e-02, -3.71227943e-03, -4.02835200e-04],\n",
              "       [-3.71227943e-03,  2.72907389e-04,  1.66782433e-05],\n",
              "       [-4.02835200e-04,  1.66782433e-05,  1.13597903e-05]])"
            ]
          },
          "execution_count": 24,
          "metadata": {},
          "output_type": "execute_result"
        }
      ],
      "source": [
        "inv_k"
      ]
    },
    {
      "cell_type": "code",
      "execution_count": null,
      "metadata": {
        "id": "Ru8un-Fea70t"
      },
      "outputs": [],
      "source": [
        "x_y=X.T.dot(y)"
      ]
    },
    {
      "cell_type": "code",
      "execution_count": null,
      "metadata": {
        "id": "zy3PFcZebN_l"
      },
      "outputs": [],
      "source": [
        "betas=inv_k.dot(x_y)"
      ]
    },
    {
      "cell_type": "markdown",
      "metadata": {
        "id": "hBc_SQAEb5fc"
      },
      "source": [
        "**1. BETAS**"
      ]
    },
    {
      "cell_type": "code",
      "execution_count": null,
      "metadata": {
        "colab": {
          "base_uri": "https://localhost:8080/"
        },
        "id": "T8kbU58DbTC0",
        "outputId": "1574e98a-5669-44aa-ca21-eb22a41a1940"
      },
      "outputs": [
        {
          "data": {
            "text/plain": [
              "array([-3.39053946,  0.64427208,  0.0700954 ])"
            ]
          },
          "execution_count": 27,
          "metadata": {},
          "output_type": "execute_result"
        }
      ],
      "source": [
        "betas"
      ]
    },
    {
      "cell_type": "code",
      "execution_count": null,
      "metadata": {
        "id": "VjkNYhWAcud-"
      },
      "outputs": [],
      "source": [
        "y_estimada= X.dot(betas)"
      ]
    },
    {
      "cell_type": "code",
      "execution_count": null,
      "metadata": {
        "colab": {
          "base_uri": "https://localhost:8080/"
        },
        "id": "hGNB_HbHhhWm",
        "outputId": "3e987a85-a7ec-4141-c4cf-afce99705f9a"
      },
      "outputs": [
        {
          "data": {
            "text/plain": [
              "array([-3.39053946,  0.64427208,  0.0700954 ])"
            ]
          },
          "execution_count": 29,
          "metadata": {},
          "output_type": "execute_result"
        }
      ],
      "source": [
        "betas"
      ]
    },
    {
      "cell_type": "code",
      "execution_count": null,
      "metadata": {
        "id": "0-_F5aDlc6bV"
      },
      "outputs": [],
      "source": [
        "u=y-y_estimada"
      ]
    },
    {
      "cell_type": "code",
      "execution_count": null,
      "metadata": {
        "id": "rWW9LJwudAiN"
      },
      "outputs": [],
      "source": [
        "sigma= sum(u**2)/523"
      ]
    },
    {
      "cell_type": "code",
      "execution_count": null,
      "metadata": {
        "colab": {
          "base_uri": "https://localhost:8080/"
        },
        "id": "9KFSr_P4dVtl",
        "outputId": "b820424b-deb1-4339-8aed-a5c55651317c"
      },
      "outputs": [
        {
          "data": {
            "text/plain": [
              "10.608336116213543"
            ]
          },
          "execution_count": 32,
          "metadata": {},
          "output_type": "execute_result"
        }
      ],
      "source": [
        "sigma"
      ]
    },
    {
      "cell_type": "code",
      "execution_count": null,
      "metadata": {
        "id": "IfOMWmRzduxG"
      },
      "outputs": [],
      "source": [
        "l=sigma*inv_k\n"
      ]
    },
    {
      "cell_type": "markdown",
      "metadata": {
        "id": "akL6tpIGfdQ1"
      },
      "source": [
        "**2. ERRORES ESTANDAR**"
      ]
    },
    {
      "cell_type": "code",
      "execution_count": null,
      "metadata": {
        "colab": {
          "base_uri": "https://localhost:8080/"
        },
        "id": "1buFoIAgfI_O",
        "outputId": "33897935-1a53-4ef7-fbe0-b78a0243f134"
      },
      "outputs": [
        {
          "name": "stderr",
          "output_type": "stream",
          "text": [
            "<ipython-input-34-e0c3c7e6d8f3>:1: RuntimeWarning: invalid value encountered in sqrt\n",
            "  ee= np.diag(np.sqrt(l))\n"
          ]
        }
      ],
      "source": [
        "ee= np.diag(np.sqrt(l))"
      ]
    },
    {
      "cell_type": "code",
      "execution_count": null,
      "metadata": {
        "colab": {
          "base_uri": "https://localhost:8080/"
        },
        "id": "0IzuzuDlft8F",
        "outputId": "741ec535-a0e3-4c4f-83c5-cdb45552909a"
      },
      "outputs": [
        {
          "data": {
            "text/plain": [
              "array([0.76656609, 0.05380607, 0.01097764])"
            ]
          },
          "execution_count": 35,
          "metadata": {},
          "output_type": "execute_result"
        }
      ],
      "source": [
        "ee"
      ]
    },
    {
      "cell_type": "markdown",
      "metadata": {
        "id": "JO7jJdWffjwd"
      },
      "source": [
        "**3. ESTADISTICO T**"
      ]
    },
    {
      "cell_type": "code",
      "execution_count": null,
      "metadata": {
        "id": "pd2BBdt2fnxd"
      },
      "outputs": [],
      "source": [
        "t=betas/ee"
      ]
    },
    {
      "cell_type": "code",
      "execution_count": null,
      "metadata": {
        "colab": {
          "base_uri": "https://localhost:8080/"
        },
        "id": "g74uBHRAfwq-",
        "outputId": "2380d7b3-4421-430b-d669-c4f2866cbbe1"
      },
      "outputs": [
        {
          "data": {
            "text/plain": [
              "array([-4.423023  , 11.97396614,  6.38529107])"
            ]
          },
          "execution_count": 37,
          "metadata": {},
          "output_type": "execute_result"
        }
      ],
      "source": [
        "t"
      ]
    },
    {
      "cell_type": "markdown",
      "metadata": {
        "id": "ATGGcd94Ws9P"
      },
      "source": [
        "**4. iNTERVALOS DE CONFIANZA**\n"
      ]
    },
    {
      "cell_type": "markdown",
      "metadata": {
        "id": "7i2oT6BocO5I"
      },
      "source": [
        "Pimer coeficiente"
      ]
    },
    {
      "cell_type": "code",
      "source": [
        "interv_lower=betas-(1.96*ee)\n",
        "\n"
      ],
      "metadata": {
        "id": "d3ovWFHFrcgy"
      },
      "execution_count": 132,
      "outputs": []
    },
    {
      "cell_type": "code",
      "source": [
        "interv_lower"
      ],
      "metadata": {
        "colab": {
          "base_uri": "https://localhost:8080/"
        },
        "id": "x9RGG21Vrm0b",
        "outputId": "266697cf-63fd-4050-ae31-06607456353e"
      },
      "execution_count": 133,
      "outputs": [
        {
          "output_type": "execute_result",
          "data": {
            "text/plain": [
              "array([-4.89300901,  0.53881218,  0.04857923])"
            ]
          },
          "metadata": {},
          "execution_count": 133
        }
      ]
    },
    {
      "cell_type": "code",
      "source": [
        "interv_upper=betas+(1.96*ee)"
      ],
      "metadata": {
        "id": "ynQOzlB_sztq"
      },
      "execution_count": 134,
      "outputs": []
    },
    {
      "cell_type": "code",
      "source": [
        "interv_upper"
      ],
      "metadata": {
        "colab": {
          "base_uri": "https://localhost:8080/"
        },
        "id": "6KwnrgSes4FX",
        "outputId": "bff1479d-18ae-4014-e490-6ee5a6bb2c3d"
      },
      "execution_count": 135,
      "outputs": [
        {
          "output_type": "execute_result",
          "data": {
            "text/plain": [
              "array([-1.88806992,  0.74973198,  0.09161156])"
            ]
          },
          "metadata": {},
          "execution_count": 135
        }
      ]
    },
    {
      "cell_type": "code",
      "source": [
        "intervalos= (interv_lower,interv_upper)"
      ],
      "metadata": {
        "id": "6XNvEzzWtHK_"
      },
      "execution_count": 137,
      "outputs": []
    },
    {
      "cell_type": "code",
      "source": [
        "intervalos"
      ],
      "metadata": {
        "colab": {
          "base_uri": "https://localhost:8080/"
        },
        "id": "PLXQSjBhtPeI",
        "outputId": "f68b90a9-b7fc-4d10-c57a-02a1ad33d4cd"
      },
      "execution_count": 138,
      "outputs": [
        {
          "output_type": "execute_result",
          "data": {
            "text/plain": [
              "(array([-4.89300901,  0.53881218,  0.04857923]),\n",
              " array([-1.88806992,  0.74973198,  0.09161156]))"
            ]
          },
          "metadata": {},
          "execution_count": 138
        }
      ]
    },
    {
      "cell_type": "markdown",
      "metadata": {
        "id": "1EsrMvBDUHsO"
      },
      "source": [
        "COMPROBACION"
      ]
    },
    {
      "cell_type": "code",
      "execution_count": null,
      "metadata": {
        "colab": {
          "base_uri": "https://localhost:8080/",
          "height": 473
        },
        "id": "G1LopdNLUJb9",
        "outputId": "c85130b8-6d10-4e26-d18c-cdde6d16cc31"
      },
      "outputs": [
        {
          "data": {
            "text/html": [
              "<table class=\"simpletable\">\n",
              "<caption>OLS Regression Results</caption>\n",
              "<tr>\n",
              "  <th>Dep. Variable:</th>          <td>wage</td>       <th>  R-squared:         </th> <td>   0.225</td>\n",
              "</tr>\n",
              "<tr>\n",
              "  <th>Model:</th>                   <td>OLS</td>       <th>  Adj. R-squared:    </th> <td>   0.222</td>\n",
              "</tr>\n",
              "<tr>\n",
              "  <th>Method:</th>             <td>Least Squares</td>  <th>  F-statistic:       </th> <td>   75.99</td>\n",
              "</tr>\n",
              "<tr>\n",
              "  <th>Date:</th>             <td>Fri, 21 Apr 2023</td> <th>  Prob (F-statistic):</th> <td>1.07e-29</td>\n",
              "</tr>\n",
              "<tr>\n",
              "  <th>Time:</th>                 <td>19:37:47</td>     <th>  Log-Likelihood:    </th> <td> -1366.0</td>\n",
              "</tr>\n",
              "<tr>\n",
              "  <th>No. Observations:</th>      <td>   526</td>      <th>  AIC:               </th> <td>   2738.</td>\n",
              "</tr>\n",
              "<tr>\n",
              "  <th>Df Residuals:</th>          <td>   523</td>      <th>  BIC:               </th> <td>   2751.</td>\n",
              "</tr>\n",
              "<tr>\n",
              "  <th>Df Model:</th>              <td>     2</td>      <th>                     </th>     <td> </td>   \n",
              "</tr>\n",
              "<tr>\n",
              "  <th>Covariance Type:</th>      <td>nonrobust</td>    <th>                     </th>     <td> </td>   \n",
              "</tr>\n",
              "</table>\n",
              "<table class=\"simpletable\">\n",
              "<tr>\n",
              "    <td></td>       <th>coef</th>     <th>std err</th>      <th>t</th>      <th>P>|t|</th>  <th>[0.025</th>    <th>0.975]</th>  \n",
              "</tr>\n",
              "<tr>\n",
              "  <th>const</th> <td>   -3.3905</td> <td>    0.767</td> <td>   -4.423</td> <td> 0.000</td> <td>   -4.896</td> <td>   -1.885</td>\n",
              "</tr>\n",
              "<tr>\n",
              "  <th>educ</th>  <td>    0.6443</td> <td>    0.054</td> <td>   11.974</td> <td> 0.000</td> <td>    0.539</td> <td>    0.750</td>\n",
              "</tr>\n",
              "<tr>\n",
              "  <th>exper</th> <td>    0.0701</td> <td>    0.011</td> <td>    6.385</td> <td> 0.000</td> <td>    0.049</td> <td>    0.092</td>\n",
              "</tr>\n",
              "</table>\n",
              "<table class=\"simpletable\">\n",
              "<tr>\n",
              "  <th>Omnibus:</th>       <td>196.872</td> <th>  Durbin-Watson:     </th> <td>   1.820</td> \n",
              "</tr>\n",
              "<tr>\n",
              "  <th>Prob(Omnibus):</th> <td> 0.000</td>  <th>  Jarque-Bera (JB):  </th> <td> 727.160</td> \n",
              "</tr>\n",
              "<tr>\n",
              "  <th>Skew:</th>          <td> 1.715</td>  <th>  Prob(JB):          </th> <td>1.26e-158</td>\n",
              "</tr>\n",
              "<tr>\n",
              "  <th>Kurtosis:</th>      <td> 7.627</td>  <th>  Cond. No.          </th> <td>    130.</td> \n",
              "</tr>\n",
              "</table><br/><br/>Notes:<br/>[1] Standard Errors assume that the covariance matrix of the errors is correctly specified."
            ],
            "text/plain": [
              "<class 'statsmodels.iolib.summary.Summary'>\n",
              "\"\"\"\n",
              "                            OLS Regression Results                            \n",
              "==============================================================================\n",
              "Dep. Variable:                   wage   R-squared:                       0.225\n",
              "Model:                            OLS   Adj. R-squared:                  0.222\n",
              "Method:                 Least Squares   F-statistic:                     75.99\n",
              "Date:                Fri, 21 Apr 2023   Prob (F-statistic):           1.07e-29\n",
              "Time:                        19:37:47   Log-Likelihood:                -1366.0\n",
              "No. Observations:                 526   AIC:                             2738.\n",
              "Df Residuals:                     523   BIC:                             2751.\n",
              "Df Model:                           2                                         \n",
              "Covariance Type:            nonrobust                                         \n",
              "==============================================================================\n",
              "                 coef    std err          t      P>|t|      [0.025      0.975]\n",
              "------------------------------------------------------------------------------\n",
              "const         -3.3905      0.767     -4.423      0.000      -4.896      -1.885\n",
              "educ           0.6443      0.054     11.974      0.000       0.539       0.750\n",
              "exper          0.0701      0.011      6.385      0.000       0.049       0.092\n",
              "==============================================================================\n",
              "Omnibus:                      196.872   Durbin-Watson:                   1.820\n",
              "Prob(Omnibus):                  0.000   Jarque-Bera (JB):              727.160\n",
              "Skew:                           1.715   Prob(JB):                    1.26e-158\n",
              "Kurtosis:                       7.627   Cond. No.                         130.\n",
              "==============================================================================\n",
              "\n",
              "Notes:\n",
              "[1] Standard Errors assume that the covariance matrix of the errors is correctly specified.\n",
              "\"\"\""
            ]
          },
          "execution_count": 8,
          "metadata": {},
          "output_type": "execute_result"
        }
      ],
      "source": [
        "y=df[\"wage\"]\n",
        "x=df[[\"educ\",\"exper\"]]\n",
        "X= sm.add_constant(x)\n",
        "model= sm.OLS(y,X)\n",
        "reg=model.fit()\n",
        "reg.summary()\n",
        "\n",
        "import statsmodels.api as sm"
      ]
    },
    {
      "cell_type": "markdown",
      "source": [
        "**5 INTERPRETACION **"
      ],
      "metadata": {
        "id": "cfLn5C6luCDl"
      }
    },
    {
      "cell_type": "markdown",
      "source": [
        "**El coeficiente de educación (0.6443) indica que:**  Por cada aumento de  1 unidad  en la variable de educación, el salario  aumenta en 0.6443 unidades. \n",
        "\n",
        "**El coeficiente de experiencia (0.0701) indica que:**  por cada aumento de 1 unidad en  la variable de experiencia, el salario  aumenta en 0.0701 unidades, manteniendo constante la variable de educación."
      ],
      "metadata": {
        "id": "B9Zpgw86uh3X"
      }
    },
    {
      "cell_type": "markdown",
      "source": [
        "Para saber la significancia estadistica podemos determinarla mediante los valores de t y los intervaloes de confianza del 95% de cada uno de los valores. \n",
        "\n",
        "**t:** Si el valor de t es mayor a 1.96 , teniendo como base una prueba de dos colas, se puede determinar que la variable es significativa. En ese orden de ideas:\n",
        "\n",
        "**variable educ:** 11.97>1.96  , esto nos indica que la variable educ es significativa en relacion a la variable wage \n",
        "\n",
        "**variable exp:** 6.385 >1.96  , esto nos indica que la variable exp es significativa en relacion a la variable wage\n",
        "\n",
        "\n"
      ],
      "metadata": {
        "id": "n7rJq5_GvSRg"
      }
    }
  ],
  "metadata": {
    "colab": {
      "provenance": []
    },
    "kernelspec": {
      "display_name": "Python 3",
      "name": "python3"
    },
    "language_info": {
      "name": "python"
    }
  },
  "nbformat": 4,
  "nbformat_minor": 0
}